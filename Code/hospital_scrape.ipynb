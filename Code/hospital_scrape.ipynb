{
 "cells": [
  {
   "cell_type": "code",
   "execution_count": 1,
   "metadata": {},
   "outputs": [],
   "source": [
    "import requests\n",
    "from bs4 import BeautifulSoup\n",
    "import pandas as pd\n",
    "\n"
   ]
  },
  {
   "cell_type": "code",
   "execution_count": 2,
   "metadata": {},
   "outputs": [
    {
     "name": "stdout",
     "output_type": "stream",
     "text": [
      "Data saved to hospital_data.csv.\n"
     ]
    }
   ],
   "source": [
    "# Specify the URL of the website to scrape\n",
    "url = 'https://www.medindia.net/patients/hospital_search/hospital_list.asp'\n",
    "\n",
    "# Send a GET request to the website\n",
    "response = requests.get(url)\n",
    "\n",
    "# Check if the request was successful\n",
    "if response.status_code == 200:\n",
    "    # Parse the HTML content using BeautifulSoup\n",
    "    soup = BeautifulSoup(response.content, 'html.parser')\n",
    "\n",
    "    # Find the <div> containing the hospital links\n",
    "    div = soup.find('div', class_='row name-links')\n",
    "\n",
    "    # Extract the hospital information from the links\n",
    "    hospitals = []\n",
    "    links = div.find_all('a')\n",
    "    for link in links:\n",
    "        href = link['href']\n",
    "        name = link.text.strip().title()\n",
    "        hospitals.append([name, href])\n",
    "\n",
    "    # Create a DataFrame to store the hospital data\n",
    "    columns = ['Hospital Name', 'URL']\n",
    "    data = pd.DataFrame(hospitals, columns=columns)\n",
    "\n",
    "    # Save the DataFrame to a CSV file\n",
    "    data.to_csv('hospital_data.csv', index=False)\n",
    "\n",
    "    print('Data saved to hospital_data.csv.')\n",
    "else:\n",
    "    print('Error: Failed to retrieve the website content.')\n"
   ]
  }
 ],
 "metadata": {
  "kernelspec": {
   "display_name": "Python 3.10.6 ('base')",
   "language": "python",
   "name": "python3"
  },
  "language_info": {
   "codemirror_mode": {
    "name": "ipython",
    "version": 3
   },
   "file_extension": ".py",
   "mimetype": "text/x-python",
   "name": "python",
   "nbconvert_exporter": "python",
   "pygments_lexer": "ipython3",
   "version": "3.10.12"
  },
  "orig_nbformat": 4,
  "vscode": {
   "interpreter": {
    "hash": "1b9603ab75704494434c4abe56997ef3bb46c839483ec68f7dba80f8b5009106"
   }
  }
 },
 "nbformat": 4,
 "nbformat_minor": 2
}
